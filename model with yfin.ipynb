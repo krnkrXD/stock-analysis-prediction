{
 "cells": [
  {
   "cell_type": "code",
   "execution_count": 1,
   "id": "baab11db",
   "metadata": {},
   "outputs": [
    {
     "name": "stdout",
     "output_type": "stream",
     "text": [
      "Collecting yfinanceNote: you may need to restart the kernel to use updated packages.\n",
      "  Using cached yfinance-0.2.14-py2.py3-none-any.whl (59 kB)\n",
      "Requirement already satisfied: pytz>=2022.5 in c:\\users\\karan\\anaconda3\\lib\\site-packages (from yfinance) (2023.3)\n",
      "Requirement already satisfied: pandas>=1.3.0 in c:\\users\\karan\\anaconda3\\lib\\site-packages (from yfinance) (1.4.2)\n",
      "Collecting frozendict>=2.3.4\n",
      "  Using cached frozendict-2.3.6-cp39-cp39-win_amd64.whl (35 kB)\n",
      "Requirement already satisfied: requests>=2.26 in c:\\users\\karan\\anaconda3\\lib\\site-packages (from yfinance) (2.27.1)\n",
      "Requirement already satisfied: multitasking>=0.0.7 in c:\\users\\karan\\anaconda3\\lib\\site-packages (from yfinance) (0.0.11)\n",
      "Requirement already satisfied: appdirs>=1.4.4 in c:\\users\\karan\\anaconda3\\lib\\site-packages (from yfinance) (1.4.4)\n",
      "Requirement already satisfied: cryptography>=3.3.2 in c:\\users\\karan\\anaconda3\\lib\\site-packages (from yfinance) (3.4.8)\n",
      "Requirement already satisfied: lxml>=4.9.1 in c:\\users\\karan\\anaconda3\\lib\\site-packages (from yfinance) (4.9.2)\n",
      "Collecting html5lib>=1.1\n",
      "  Using cached html5lib-1.1-py2.py3-none-any.whl (112 kB)\n",
      "Requirement already satisfied: beautifulsoup4>=4.11.1 in c:\\users\\karan\\anaconda3\\lib\\site-packages (from yfinance) (4.11.1)\n",
      "Requirement already satisfied: numpy>=1.16.5 in c:\\users\\karan\\anaconda3\\lib\\site-packages (from yfinance) (1.21.5)\n",
      "Requirement already satisfied: soupsieve>1.2 in c:\\users\\karan\\anaconda3\\lib\\site-packages (from beautifulsoup4>=4.11.1->yfinance) (2.3.1)\n",
      "Requirement already satisfied: cffi>=1.12 in c:\\users\\karan\\anaconda3\\lib\\site-packages (from cryptography>=3.3.2->yfinance) (1.15.0)\n",
      "Requirement already satisfied: pycparser in c:\\users\\karan\\anaconda3\\lib\\site-packages (from cffi>=1.12->cryptography>=3.3.2->yfinance) (2.21)\n",
      "Requirement already satisfied: webencodings in c:\\users\\karan\\anaconda3\\lib\\site-packages (from html5lib>=1.1->yfinance) (0.5.1)\n",
      "Requirement already satisfied: six>=1.9 in c:\\users\\karan\\anaconda3\\lib\\site-packages (from html5lib>=1.1->yfinance) (1.16.0)\n",
      "Requirement already satisfied: python-dateutil>=2.8.1 in c:\\users\\karan\\anaconda3\\lib\\site-packages (from pandas>=1.3.0->yfinance) (2.8.2)\n",
      "Requirement already satisfied: urllib3<1.27,>=1.21.1 in c:\\users\\karan\\anaconda3\\lib\\site-packages (from requests>=2.26->yfinance) (1.26.9)\n",
      "Requirement already satisfied: idna<4,>=2.5 in c:\\users\\karan\\anaconda3\\lib\\site-packages (from requests>=2.26->yfinance) (3.3)\n",
      "Requirement already satisfied: certifi>=2017.4.17 in c:\\users\\karan\\anaconda3\\lib\\site-packages (from requests>=2.26->yfinance) (2021.10.8)\n",
      "Requirement already satisfied: charset-normalizer~=2.0.0 in c:\\users\\karan\\anaconda3\\lib\\site-packages (from requests>=2.26->yfinance) (2.0.4)\n",
      "Installing collected packages: html5lib, frozendict, yfinance\n",
      "Successfully installed frozendict-2.3.6 html5lib-1.1 yfinance-0.2.14\n",
      "\n"
     ]
    }
   ],
   "source": [
    "pip install yfinance"
   ]
  },
  {
   "cell_type": "code",
   "execution_count": 2,
   "id": "a8db6d86",
   "metadata": {},
   "outputs": [
    {
     "name": "stderr",
     "output_type": "stream",
     "text": [
      "C:\\Users\\karan\\anaconda3\\lib\\site-packages\\requests\\__init__.py:102: RequestsDependencyWarning: urllib3 (1.26.9) or chardet (5.1.0)/charset_normalizer (2.0.4) doesn't match a supported version!\n",
      "  warnings.warn(\"urllib3 ({}) or chardet ({})/charset_normalizer ({}) doesn't match a supported \"\n"
     ]
    },
    {
     "ename": "ModuleNotFoundError",
     "evalue": "No module named 'talib'",
     "output_type": "error",
     "traceback": [
      "\u001b[1;31m---------------------------------------------------------------------------\u001b[0m",
      "\u001b[1;31mModuleNotFoundError\u001b[0m                       Traceback (most recent call last)",
      "Input \u001b[1;32mIn [2]\u001b[0m, in \u001b[0;36m<cell line: 2>\u001b[1;34m()\u001b[0m\n\u001b[0;32m      1\u001b[0m \u001b[38;5;28;01mimport\u001b[39;00m \u001b[38;5;21;01myfinance\u001b[39;00m \u001b[38;5;28;01mas\u001b[39;00m \u001b[38;5;21;01myf\u001b[39;00m\n\u001b[1;32m----> 2\u001b[0m \u001b[38;5;28;01mimport\u001b[39;00m \u001b[38;5;21;01mtalib\u001b[39;00m\n\u001b[0;32m      3\u001b[0m \u001b[38;5;28;01mimport\u001b[39;00m \u001b[38;5;21;01mpandas\u001b[39;00m \u001b[38;5;28;01mas\u001b[39;00m \u001b[38;5;21;01mpd\u001b[39;00m\n\u001b[0;32m      4\u001b[0m \u001b[38;5;28;01mimport\u001b[39;00m \u001b[38;5;21;01mnumpy\u001b[39;00m \u001b[38;5;28;01mas\u001b[39;00m \u001b[38;5;21;01mnp\u001b[39;00m\n",
      "\u001b[1;31mModuleNotFoundError\u001b[0m: No module named 'talib'"
     ]
    }
   ],
   "source": [
    "import yfinance as yf\n",
    "import talib\n",
    "import pandas as pd\n",
    "import numpy as np\n",
    "import seaborn as sb\n",
    "import matplotlib.pyplot as plt\n",
    "from sklearn.model_selection import train_test_split\n",
    "from sklearn.tree import DecisionTreeRegressor\n",
    "from sklearn.linear_model import LinearRegression"
   ]
  },
  {
   "cell_type": "code",
   "execution_count": null,
   "id": "53adac95",
   "metadata": {},
   "outputs": [],
   "source": [
    "stocklist = yf.Tickers('ADANIENT.NS TATAMOTORS.NS ONGC.NS NTPC.NS POWERGRID.NS BAJAJFINSV.NS INFY.NS ASIANPAINT.NS TCS.NS EICHERMOT.NS RELIANCE.NS BPCL.NS HDFC.NS COALINDIA.NS ITC.NS AXISBANK.NS HCLTECH.NS HEROMOTOCO.NS HDFCBANK.NS WIPRO.NS BAJFINANCE.NS HINDUNIVLR.NS TATACONSUM.NS M&M.NS NESTLEIND.NS ADANIPORTS.NS BHARTIARTEL.NS MARUTI.NS APOLLOHOSP.NS UPL.NS TITAN.NS TECHM.NS SBILIFE.NS CIPLA.NS SBIN.NS GRASIM.NS DRREDDY.NS HDFCLIFE.NS ICICIBANK.NS BAJAJ-AUTO.NS ULTRACEMCO.NS KOTAKBANK.NS DIVISLAB.NS SUNPHARMA.NS INDUSINDBK.NS LT.NS HINDALCO.NS JSWSTEEL.NS TATASTEEL.NS BRITANNIA.NS')"
   ]
  },
  {
   "cell_type": "code",
   "execution_count": null,
   "id": "00716fa1",
   "metadata": {},
   "outputs": [],
   "source": [
    "adanient = stocklist.tickers['ADANIENT.NS'].history(interval=\"1d\",start=\"2013-1-15\",end=\"2023-01-30\")\n",
    "tatamotors = stocklist.tickers['TATAMOTORS.NS'].history(interval=\"1d\",start=\"2013-1-15\",end=\"2023-01-30\")\n",
    "ongc = stocklist.tickers['ONGC.NS'].history(interval=\"1d\",start=\"2013-1-15\",end=\"2023-01-30\")\n",
    "ntpc = stocklist.tickers['NTPC.NS'].history(interval=\"1d\",start=\"2013-1-15\",end=\"2023-01-30\")\n",
    "powergrid = stocklist.tickers['POWERGRID.NS'].history(interval=\"1d\",start=\"2013-1-15\",end=\"2023-01-30\")\n",
    "bajajfinsv = stocklist.tickers['BAJAJFINSV.NS'].history(interval=\"1d\",start=\"2013-1-15\",end=\"2023-01-30\")\n",
    "infosys = stocklist.tickers['INFY.NS'].history(interval=\"1d\",start=\"2013-1-15\",end=\"2023-01-30\")\n",
    "asianpaints = stocklist.tickers['ASIANPAINT.NS'].history(interval=\"1d\",start=\"2013-1-15\",end=\"2023-01-30\")\n",
    "tcs = stocklist.tickers['TCS.NS'].history(interval=\"1d\",start=\"2013-1-15\",end=\"2023-01-30\")\n",
    "eicher = stocklist.tickers['EICHERMOT.NS'].history(interval=\"1d\",start=\"2013-1-15\",end=\"2023-01-30\")\n",
    "reliance = stocklist.tickers['RELIANCE.NS'].history(interval=\"1d\",start=\"2013-1-15\",end=\"2023-01-30\")\n",
    "bpcl = stocklist.tickers['BPCL.NS'].history(interval=\"1d\",start=\"2013-1-15\",end=\"2023-01-30\")\n",
    "hdfc = stocklist.tickers['HDFC.NS'].history(interval=\"1d\",start=\"2013-1-15\",end=\"2023-01-30\")\n",
    "coalindia = stocklist.tickers['COALINDIA.NS'].history(interval=\"1d\",start=\"2013-1-15\",end=\"2023-01-30\")\n",
    "itc = stocklist.tickers['ITC.NS'].history(interval=\"1d\",start=\"2013-1-15\",end=\"2023-01-30\")\n",
    "axisbank = stocklist.tickers['AXISBANK.NS'].history(interval=\"1d\",start=\"2013-1-15\",end=\"2023-01-30\")\n",
    "hcltech = stocklist.tickers['HCLTECH.NS'].history(interval=\"1d\",start=\"2013-1-15\",end=\"2023-01-30\")\n",
    "heromotocorp = stocklist.tickers['HEROMOTOCO.NS'].history(interval=\"1d\",start=\"2013-1-15\",end=\"2023-01-30\")\n",
    "hdfcbank = stocklist.tickers['HDFCBANK.NS'].history(interval=\"1d\",start=\"2013-1-15\",end=\"2023-01-30\")\n",
    "wipro = stocklist.tickers['WIPRO.NS'].history(interval=\"1d\",start=\"2013-1-15\",end=\"2023-01-30\")\n",
    "bajajfinance = stocklist.tickers['BAJFINANCE.NS'].history(interval=\"1d\",start=\"2013-1-15\",end=\"2023-01-30\")\n",
    "tataconsum = stocklist.tickers['TATACONSUM.NS'].history(interval=\"1d\",start=\"2013-1-15\",end=\"2023-01-30\")\n",
    "mahindra = stocklist.tickers['M&M.NS'].history(interval=\"1d\",start=\"2013-1-15\",end=\"2023-01-30\")\n",
    "nestle = stocklist.tickers['NESTLEIND.NS'].history(interval=\"1d\",start=\"2013-1-15\",end=\"2023-01-30\")\n",
    "adaniports = stocklist.tickers['ADANIPORTS.NS'].history(interval=\"1d\",start=\"2013-1-15\",end=\"2023-01-30\")\n",
    "maruti = stocklist.tickers['MARUTI.NS'].history(interval=\"1d\",start=\"2013-1-15\",end=\"2023-01-30\")\n",
    "apollo = stocklist.tickers['APOLLOHOSP.NS'].history(interval=\"1d\",start=\"2013-1-15\",end=\"2023-01-30\")\n",
    "upl = stocklist.tickers['UPL.NS'].history(interval=\"1d\",start=\"2013-1-15\",end=\"2023-01-30\")\n",
    "titan = stocklist.tickers['TITAN.NS'].history(interval=\"1d\",start=\"2013-1-15\",end=\"2023-01-30\")\n",
    "techmahindra = stocklist.tickers['TECHM.NS'].history(interval=\"1d\",start=\"2013-1-15\",end=\"2023-01-30\")\n",
    "sbilife = stocklist.tickers['SBILIFE.NS'].history(interval=\"1d\",start=\"2013-1-15\",end=\"2023-01-30\")\n",
    "cipla = stocklist.tickers['CIPLA.NS'].history(interval=\"1d\",start=\"2013-1-15\",end=\"2023-01-30\")\n",
    "sbi = stocklist.tickers['SBIN.NS'].history(interval=\"1d\",start=\"2013-1-15\",end=\"2023-01-30\")\n",
    "grasim = stocklist.tickers['GRASIM.NS'].history(interval=\"1d\",start=\"2013-1-15\",end=\"2023-01-30\")\n",
    "drreddy = stocklist.tickers['DRREDDY.NS'].history(interval=\"1d\",start=\"2013-1-15\",end=\"2023-01-30\")\n",
    "hdfclife = stocklist.tickers['HDFCLIFE.NS'].history(interval=\"1d\",start=\"2013-1-15\",end=\"2023-01-30\")\n",
    "icicibank = stocklist.tickers['ICICIBANK.NS'].history(interval=\"1d\",start=\"2013-1-15\",end=\"2023-01-30\")\n",
    "bajajauto = stocklist.tickers['BAJAJ-AUTO.NS'].history(interval=\"1d\",start=\"2013-1-15\",end=\"2023-01-30\")\n",
    "ultratechcement = stocklist.tickers['ULTRACEMCO.NS'].history(interval=\"1d\",start=\"2013-1-15\",end=\"2023-01-30\")\n",
    "kotakbank = stocklist.tickers['KOTAKBANK.NS'].history(interval=\"1d\",start=\"2013-1-15\",end=\"2023-01-30\")\n",
    "divislab = stocklist.tickers['DIVISLAB.NS'].history(interval=\"1d\",start=\"2013-1-15\",end=\"2023-01-30\")\n",
    "sunpharma = stocklist.tickers['SUNPHARMA.NS'].history(interval=\"1d\",start=\"2013-1-15\",end=\"2023-01-30\")\n",
    "indusindbank = stocklist.tickers['INDUSINDBK.NS'].history(interval=\"1d\",start=\"2013-1-15\",end=\"2023-01-30\")\n",
    "larsen_tourbo = stocklist.tickers['LT.NS'].history(interval=\"1d\",start=\"2013-1-15\",end=\"2023-01-30\")\n",
    "hindalco = stocklist.tickers['HINDALCO.NS'].history(interval=\"1d\",start=\"2013-1-15\",end=\"2023-01-30\")\n",
    "jswsteel = stocklist.tickers['JSWSTEEL.NS'].history(interval=\"1d\",start=\"2013-1-15\",end=\"2023-01-30\")\n",
    "tatasteel = stocklist.tickers['TATASTEEL.NS'].history(interval=\"1d\",start=\"2013-1-15\",end=\"2023-01-30\")\n",
    "britannia = stocklist.tickers['BRITANNIA.NS'].history(interval=\"1d\",start=\"2013-1-15\",end=\"2023-01-30\")"
   ]
  },
  {
   "cell_type": "code",
   "execution_count": null,
   "id": "bd815381",
   "metadata": {},
   "outputs": [],
   "source": [
    "def processor(x):\n",
    "    x.reset_index(inplace=True)\n",
    "    x['Date'] = x['Date'].dt.strftime('%Y/%m/%d')\n",
    "    x = x.loc[:,['Date', 'Open', 'High', 'Low', 'Close']]"
   ]
  },
  {
   "cell_type": "code",
   "execution_count": null,
   "id": "db0f4237",
   "metadata": {},
   "outputs": [],
   "source": [
    "processor(infosys)\n",
    "infosys[\"Symbol\"] = \"INFOSYS\""
   ]
  },
  {
   "cell_type": "code",
   "execution_count": null,
   "id": "4d6bd49b",
   "metadata": {},
   "outputs": [],
   "source": [
    "processor(grasim)\n",
    "grasim[\"Symbol\"] = \"GRASIM\""
   ]
  },
  {
   "cell_type": "code",
   "execution_count": null,
   "id": "0951f754",
   "metadata": {},
   "outputs": [],
   "source": [
    "processor(adanient)\n",
    "adanient[\"Symbol\"] = \"ADANIENT\""
   ]
  },
  {
   "cell_type": "code",
   "execution_count": null,
   "id": "86067207",
   "metadata": {},
   "outputs": [],
   "source": [
    "processor(tatamotors)\n",
    "tatamotors[\"Symbol\"] = \"TATAMOTORS\""
   ]
  },
  {
   "cell_type": "code",
   "execution_count": null,
   "id": "ebaf4ef7",
   "metadata": {},
   "outputs": [],
   "source": [
    "processor(ongc)\n",
    "ongc[\"Symbol\"] = \"ONGC\""
   ]
  },
  {
   "cell_type": "code",
   "execution_count": null,
   "id": "81f69875",
   "metadata": {},
   "outputs": [],
   "source": [
    "processor(ntpc)\n",
    "ntpc[\"Symbol\"] = \"NTPC\""
   ]
  },
  {
   "cell_type": "code",
   "execution_count": null,
   "id": "23309cee",
   "metadata": {},
   "outputs": [],
   "source": [
    "processor(powergrid)\n",
    "powergrid[\"Symbol\"] = \"POWERGRID\""
   ]
  },
  {
   "cell_type": "code",
   "execution_count": null,
   "id": "cce02ea7",
   "metadata": {},
   "outputs": [],
   "source": [
    "processor(bajajfinsv)\n",
    "bajajfinsv[\"Symbol\"] = \"BAJAJFINSV\""
   ]
  },
  {
   "cell_type": "code",
   "execution_count": null,
   "id": "b4a0b254",
   "metadata": {},
   "outputs": [],
   "source": [
    "processor(asianpaints)\n",
    "asianpaints[\"Symbol\"] = \"ASIANPAINTS\""
   ]
  },
  {
   "cell_type": "code",
   "execution_count": null,
   "id": "17ed322f",
   "metadata": {},
   "outputs": [],
   "source": [
    "processor(tcs)\n",
    "tcs[\"Symbol\"] = \"TCS\""
   ]
  },
  {
   "cell_type": "code",
   "execution_count": null,
   "id": "79ac4024",
   "metadata": {},
   "outputs": [],
   "source": [
    "processor(eicher)\n",
    "eicher[\"Symbol\"] = \"EICHER\""
   ]
  },
  {
   "cell_type": "code",
   "execution_count": null,
   "id": "fee3b739",
   "metadata": {},
   "outputs": [],
   "source": [
    "processor(reliance)\n",
    "reliance[\"Symbol\"] = \"RELIANCE\""
   ]
  },
  {
   "cell_type": "code",
   "execution_count": null,
   "id": "a351147d",
   "metadata": {},
   "outputs": [],
   "source": [
    "processor(bpcl)\n",
    "bpcl[\"Symbol\"] = \"BPCL\""
   ]
  },
  {
   "cell_type": "code",
   "execution_count": null,
   "id": "8229c107",
   "metadata": {},
   "outputs": [],
   "source": [
    "processor(hdfc)\n",
    "hdfc[\"Symbol\"] = \"HDFC\""
   ]
  },
  {
   "cell_type": "code",
   "execution_count": null,
   "id": "d422168d",
   "metadata": {},
   "outputs": [],
   "source": [
    "processor(coalindia)\n",
    "coalindia[\"Symbol\"] = \"COALINDIA\""
   ]
  },
  {
   "cell_type": "code",
   "execution_count": null,
   "id": "3246223a",
   "metadata": {},
   "outputs": [],
   "source": [
    "processor(itc)\n",
    "itc[\"Symbol\"] = \"ITC\""
   ]
  },
  {
   "cell_type": "code",
   "execution_count": null,
   "id": "7e99c59d",
   "metadata": {},
   "outputs": [],
   "source": [
    "processor(axisbank)\n",
    "axisbank[\"Symbol\"] = \"AXISBANK\""
   ]
  },
  {
   "cell_type": "code",
   "execution_count": null,
   "id": "b2ad35b4",
   "metadata": {},
   "outputs": [],
   "source": [
    "processor(hcltech)\n",
    "hcltech[\"Symbol\"] = \"HCLTECH\""
   ]
  },
  {
   "cell_type": "code",
   "execution_count": null,
   "id": "b105502b",
   "metadata": {},
   "outputs": [],
   "source": [
    "processor(heromotocorp)\n",
    "heromotocorp[\"Symbol\"] = \"HEROMOTOCORP\""
   ]
  },
  {
   "cell_type": "code",
   "execution_count": null,
   "id": "a75c82ce",
   "metadata": {},
   "outputs": [],
   "source": [
    "processor(hdfcbank)\n",
    "hdfcbank[\"Symbol\"] = \"HDFCBANK\""
   ]
  },
  {
   "cell_type": "code",
   "execution_count": null,
   "id": "f3038e43",
   "metadata": {},
   "outputs": [],
   "source": [
    "processor(wipro)\n",
    "wipro[\"Symbol\"] = \"WIPRO\""
   ]
  },
  {
   "cell_type": "code",
   "execution_count": null,
   "id": "a8295404",
   "metadata": {},
   "outputs": [],
   "source": [
    "processor(bajajfinance)\n",
    "bajajfinance[\"Symbol\"] = \"BAJFINANCE\""
   ]
  },
  {
   "cell_type": "code",
   "execution_count": null,
   "id": "bf0c194f",
   "metadata": {},
   "outputs": [],
   "source": [
    "processor(tataconsum)\n",
    "tataconsum[\"Symbol\"] = \"TATACONSUM\""
   ]
  },
  {
   "cell_type": "code",
   "execution_count": null,
   "id": "c7bd8e4b",
   "metadata": {},
   "outputs": [],
   "source": [
    "processor(mahindra)\n",
    "mahindra[\"Symbol\"] = \"M&M\""
   ]
  },
  {
   "cell_type": "code",
   "execution_count": null,
   "id": "9dc50a7c",
   "metadata": {},
   "outputs": [],
   "source": [
    "processor(nestle)\n",
    "nestle[\"Symbol\"] = \"NESTLE\""
   ]
  },
  {
   "cell_type": "code",
   "execution_count": null,
   "id": "ab381dbf",
   "metadata": {},
   "outputs": [],
   "source": [
    "processor(adaniports)\n",
    "adaniports[\"Symbol\"] = \"ADANIPORTS\""
   ]
  },
  {
   "cell_type": "code",
   "execution_count": null,
   "id": "6afae01d",
   "metadata": {},
   "outputs": [],
   "source": [
    "processor(maruti)\n",
    "maruti[\"Symbol\"] = \"MARUTI\""
   ]
  },
  {
   "cell_type": "code",
   "execution_count": null,
   "id": "d356774d",
   "metadata": {},
   "outputs": [],
   "source": [
    "processor(apollo)\n",
    "apollo[\"Symbol\"] = \"APOLLO\""
   ]
  },
  {
   "cell_type": "code",
   "execution_count": null,
   "id": "af425f9a",
   "metadata": {},
   "outputs": [],
   "source": [
    "processor(upl)\n",
    "upl[\"Symbol\"] = \"UPL\""
   ]
  },
  {
   "cell_type": "code",
   "execution_count": null,
   "id": "0a32b6eb",
   "metadata": {},
   "outputs": [],
   "source": [
    "processor(titan)\n",
    "titan[\"Symbol\"] = \"TITAN\""
   ]
  },
  {
   "cell_type": "code",
   "execution_count": null,
   "id": "fb1435fb",
   "metadata": {},
   "outputs": [],
   "source": [
    "processor(techmahindra)\n",
    "techmahindra[\"Symbol\"] = \"TECHM\""
   ]
  },
  {
   "cell_type": "code",
   "execution_count": null,
   "id": "8b8d2d32",
   "metadata": {},
   "outputs": [],
   "source": [
    "processor(sbilife)\n",
    "sbilife[\"Symbol\"] = \"SBILIFE\""
   ]
  },
  {
   "cell_type": "code",
   "execution_count": null,
   "id": "c1886c4e",
   "metadata": {},
   "outputs": [],
   "source": [
    "processor(cipla)\n",
    "cipla[\"Symbol\"] = \"CIPLA\""
   ]
  },
  {
   "cell_type": "code",
   "execution_count": null,
   "id": "875020cd",
   "metadata": {},
   "outputs": [],
   "source": [
    "processor(sbi)\n",
    "sbi[\"Symbol\"] = \"SBI\""
   ]
  },
  {
   "cell_type": "code",
   "execution_count": null,
   "id": "eadb1119",
   "metadata": {},
   "outputs": [],
   "source": [
    "processor(drreddy)\n",
    "drreddy[\"Symbol\"] = \"DRREDDY\""
   ]
  },
  {
   "cell_type": "code",
   "execution_count": null,
   "id": "605aabe7",
   "metadata": {},
   "outputs": [],
   "source": [
    "processor(hdfclife)\n",
    "hdfclife[\"Symbol\"] = \"HDFCLIFE\""
   ]
  },
  {
   "cell_type": "code",
   "execution_count": null,
   "id": "ff85d7c8",
   "metadata": {},
   "outputs": [],
   "source": [
    "processor(icicibank)\n",
    "icicibank[\"Symbol\"] = \"ICICIBANK\""
   ]
  },
  {
   "cell_type": "code",
   "execution_count": null,
   "id": "f76ca61e",
   "metadata": {},
   "outputs": [],
   "source": [
    "processor(bajajauto)\n",
    "bajajauto[\"Symbol\"] = \"BAJAJ-AUTO\""
   ]
  },
  {
   "cell_type": "code",
   "execution_count": null,
   "id": "08ab82d1",
   "metadata": {},
   "outputs": [],
   "source": [
    "processor(ultratechcement)\n",
    "ultratechcement[\"Symbol\"] = \"ULTRACEMCO\""
   ]
  },
  {
   "cell_type": "code",
   "execution_count": null,
   "id": "71303d8d",
   "metadata": {},
   "outputs": [],
   "source": [
    "processor(kotakbank)\n",
    "kotakbank[\"Symbol\"] = \"KOTAKBANK\""
   ]
  },
  {
   "cell_type": "code",
   "execution_count": null,
   "id": "3b67036d",
   "metadata": {},
   "outputs": [],
   "source": [
    "processor(divislab)\n",
    "divislab[\"Symbol\"] = \"DIVISLAB\""
   ]
  },
  {
   "cell_type": "code",
   "execution_count": null,
   "id": "a4360def",
   "metadata": {},
   "outputs": [],
   "source": [
    "processor(sunpharma)\n",
    "sunpharma[\"Symbol\"] = \"SUNPHARMA\""
   ]
  },
  {
   "cell_type": "code",
   "execution_count": null,
   "id": "543b7845",
   "metadata": {},
   "outputs": [],
   "source": [
    "processor(indusindbank)\n",
    "indusindbank[\"Symbol\"] = \"INDUSINDBANK\""
   ]
  },
  {
   "cell_type": "code",
   "execution_count": null,
   "id": "9f6d3ce9",
   "metadata": {},
   "outputs": [],
   "source": [
    "processor(larsen_tourbo)\n",
    "larsen_tourbo[\"Symbol\"] = \"LT\""
   ]
  },
  {
   "cell_type": "code",
   "execution_count": null,
   "id": "a3369f66",
   "metadata": {},
   "outputs": [],
   "source": [
    "processor(hindalco)\n",
    "hindalco[\"Symbol\"] = \"HINDALCO\""
   ]
  },
  {
   "cell_type": "code",
   "execution_count": null,
   "id": "113a8c81",
   "metadata": {},
   "outputs": [],
   "source": [
    "processor(jswsteel)\n",
    "jswsteel[\"Symbol\"] = \"JSWSTEEL\""
   ]
  },
  {
   "cell_type": "code",
   "execution_count": null,
   "id": "49e3484e",
   "metadata": {},
   "outputs": [],
   "source": [
    "processor(tatasteel)\n",
    "tatasteel[\"Symbol\"] = \"TATASTEEL\""
   ]
  },
  {
   "cell_type": "code",
   "execution_count": null,
   "id": "6116cee6",
   "metadata": {},
   "outputs": [],
   "source": [
    "processor(britannia)\n",
    "britannia[\"Symbol\"] = \"BRITANNIA\""
   ]
  },
  {
   "cell_type": "code",
   "execution_count": null,
   "id": "701996c8",
   "metadata": {
    "scrolled": true
   },
   "outputs": [],
   "source": [
    "import plotly.graph_objects as go"
   ]
  },
  {
   "cell_type": "code",
   "execution_count": null,
   "id": "c82a8334",
   "metadata": {},
   "outputs": [],
   "source": [
    "def print_data_chart(data):\n",
    "    name = data[\"Symbol\"].values[1]\n",
    "    data['30EMA'] = talib.EMA(data['Close'], 30)\n",
    "    chart_data = go.Candlestick(x=data['Date'], open=data['Open'], high=data['High'], low=data['Low'], close=data['Close'],name='candlestick')\n",
    "    fig = go.Figure(data=[chart_data])\n",
    "    ema_trace = go.Scatter(x=data['Date'], y=data['30EMA'], mode='lines', name='30EMA')\n",
    "    fig.add_trace(ema_trace)\n",
    "    fig.update_layout( \n",
    "          title = 'Heikin Ashi Chart:' + name, \n",
    "          xaxis_title = 'Date', \n",
    "          yaxis_title = 'Price')\n",
    "    fig.show()"
   ]
  },
  {
   "cell_type": "code",
   "execution_count": null,
   "id": "c5ae27de",
   "metadata": {},
   "outputs": [],
   "source": [
    "def dectreedata(i):\n",
    "    i_close = i['Close']\n",
    "    i_close = pd.DataFrame(i_close)\n",
    "    future_days = 100\n",
    "    i_close['Prediction'] = i_close['Close'].shift(-future_days)\n",
    "    X = np.array(i_close.drop(['Prediction'], 1))[:-future_days]\n",
    "    y = np.array(i_close['Prediction'])[:-future_days]\n",
    "    x_train, x_test, y_train, y_test = train_test_split(X, y, test_size = 0.2)\n",
    "    tree = DecisionTreeRegressor().fit(x_train, y_train)\n",
    "    x_future = i_close.drop(['Prediction'], 1)[:-future_days]\n",
    "    x_future = x_future.tail(future_days)\n",
    "    x_future = np.array(x_future)\n",
    "    x_future\n",
    "    tree_prediction = tree.predict(x_future)\n",
    "    predictions = tree_prediction \n",
    "    valid = i_close[X.shape[0]:]\n",
    "    valid['Predictions'] = predictions\n",
    "    plt.figure(figsize=(16,8))\n",
    "    plt.title(\"Model\")\n",
    "    plt.xlabel('Days')\n",
    "    plt.ylabel('Close Price INR')\n",
    "    plt.plot(i_close['Close'])\n",
    "    plt.plot(valid[['Close', 'Predictions']])\n",
    "    plt.legend([\"Original\", \"Valid\", 'Predicted'])\n",
    "    plt.show()"
   ]
  },
  {
   "cell_type": "markdown",
   "id": "5b7f6d1b",
   "metadata": {},
   "source": [
    "## PREDICTION USING  DECISION TREE WITH TATASTEEL EXAMPLE"
   ]
  },
  {
   "cell_type": "code",
   "execution_count": null,
   "id": "0de13ecf",
   "metadata": {},
   "outputs": [],
   "source": [
    "dectreedata(tatasteel)"
   ]
  },
  {
   "cell_type": "code",
   "execution_count": null,
   "id": "23512ae3",
   "metadata": {},
   "outputs": [],
   "source": [
    "print_data_chart(tatasteel)"
   ]
  },
  {
   "cell_type": "markdown",
   "id": "7a04314c",
   "metadata": {},
   "source": [
    "## PREDICTION FOR ALL STOCKS(it is commented out to reduce computation time for now)"
   ]
  },
  {
   "cell_type": "code",
   "execution_count": null,
   "id": "a026e8dc",
   "metadata": {
    "scrolled": false
   },
   "outputs": [],
   "source": [
    "# datalist = [adanient,tatamotors,ongc,ntpc,powergrid,bajajfinsv,infosys,asianpaints,tcs,eicher,reliance,bpcl,hdfc,coalindia,itc,axisbank,hcltech,heromotocorp,hdfcbank,wipro,bajajfinance,tataconsum,mahindra,nestle,adaniports,maruti,apollo,upl,titan,techmahindra,sbilife,cipla,sbi,grasim,drreddy,hdfclife,icicibank,bajajauto,ultratechcement,kotakbank,divislab,sunpharma,indusindbank,larsen_tourbo,hindalco,jswsteel,tatasteel,britannia]\n",
    "# for x in datalist:\n",
    "#     dectreedata(x)\n",
    "#     print_data_chart(x)"
   ]
  },
  {
   "cell_type": "code",
   "execution_count": null,
   "id": "7d11dd74",
   "metadata": {},
   "outputs": [],
   "source": []
  }
 ],
 "metadata": {
  "kernelspec": {
   "display_name": "Python 3 (ipykernel)",
   "language": "python",
   "name": "python3"
  },
  "language_info": {
   "codemirror_mode": {
    "name": "ipython",
    "version": 3
   },
   "file_extension": ".py",
   "mimetype": "text/x-python",
   "name": "python",
   "nbconvert_exporter": "python",
   "pygments_lexer": "ipython3",
   "version": "3.9.12"
  }
 },
 "nbformat": 4,
 "nbformat_minor": 5
}
